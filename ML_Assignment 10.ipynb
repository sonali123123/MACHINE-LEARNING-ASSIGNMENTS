{
 "cells": [
  {
   "cell_type": "markdown",
   "id": "8f276d67",
   "metadata": {},
   "source": [
    "## Machine Learning Assignment 10"
   ]
  },
  {
   "cell_type": "markdown",
   "id": "23bb3d73",
   "metadata": {},
   "source": [
    "### 1. Define the Bayesian interpretation of probability."
   ]
  },
  {
   "cell_type": "markdown",
   "id": "9f031420",
   "metadata": {},
   "source": [
    "Ans: Bayesian probability is the study of subjective probabilities or belief in an outcome, compared to the frequentist approach where probabilities are based purely on the past occurrence of the event. A Bayesian Network captures the joint probabilities of the events represented by the model."
   ]
  },
  {
   "cell_type": "markdown",
   "id": "aadbbca5",
   "metadata": {},
   "source": [
    "![image](https://miro.medium.com/max/1994/1*CnoTGGO7XeUpUMeXDrIfvA.png)"
   ]
  },
  {
   "cell_type": "markdown",
   "id": "c046376b",
   "metadata": {},
   "source": [
    "### 2. Define probability of a union of two events with equation.\n",
    "Ans: The general probability addition rule for the union of two events states that P(A∪B)=P(A)+P(B)−P(A∩B), where A∩B is the intersection of the two sets."
   ]
  },
  {
   "cell_type": "markdown",
   "id": "b4d0ae80",
   "metadata": {},
   "source": [
    "### 3. What is joint probability? What is its formula?\n",
    "Ans: Probabilities are combined using multiplication, therefore the joint probability of independent events is calculated as the probability of event A multiplied by the probability of event B. This can be stated formally as follows:\n",
    "\n",
    "Joint Probability: P(A and B) = P(A)*P(B)\n",
    "\n",
    "### 4. What is chain rule of probability?\n",
    "Ans: The chain rule, or general product rule, calculates any component of the joint distribution of a set of random variables using only conditional probabilities. This probability theory is used as a foundation for backpropagation and in creating Bayesian networks."
   ]
  },
  {
   "cell_type": "markdown",
   "id": "8a1627ab",
   "metadata": {},
   "source": [
    "### 5. What is conditional probability means? What is the formula of it?\n",
    "Ans: Conditional probability is defined as the likelihood of an event or outcome occurring, based on the occurrence of a previous event or outcome.\n",
    "\n",
    "Conditional probability is calculated by multiplying the probability of the preceding event by the updated probability of the succeeding, or conditional, event.\n",
    "\n",
    "Let's take a real-life example. Probability of selling a TV on a given normal day may be only 30%. But if we consider that given day is Diwali, then there are much more chances of selling a TV. The conditional Probability of selling a TV on a day given that Day is Diwali might be 70%."
   ]
  },
  {
   "cell_type": "markdown",
   "id": "14ff5a8e",
   "metadata": {},
   "source": [
    "![image](https://xaktly.com/Images/CondProbDefinition.png)"
   ]
  },
  {
   "cell_type": "markdown",
   "id": "5c294e7b",
   "metadata": {},
   "source": [
    "### 6. What are continuous random variables?\n",
    "Ans: A continuous random variable X takes all values in a given interval of numbers. ▪ The probability distribution of a continuous random variable is shown by a density curve. ▪ The probability that X is between an interval of numbers is the area under the density curve between the interval endpoints."
   ]
  },
  {
   "cell_type": "markdown",
   "id": "857baebe",
   "metadata": {},
   "source": [
    "### 7. What are Bernoulli distributions? What is the formula of it?"
   ]
  },
  {
   "cell_type": "markdown",
   "id": "0563d8a9",
   "metadata": {},
   "source": [
    "Ans The Bernoulli distribution is a discrete probability distribution that describes the probability of a random variable with only two outcomes.\n",
    "\n",
    "In the random process called a Bernoulli trial, the random variable can take one outcome, called a success, with a probability p, or take another outcome, called failure, with a probability q = 1-p.\n",
    "\n",
    "The success outcome is denoted as 1 and the failure outcome is denoted as 0.\n",
    "\n",
    "![image](https://d2vlcm61l7u1fs.cloudfront.net/media/0d0/0d0fb69a-6769-41bc-bee8-f19ef67c3cf1/php259FY6.png)"
   ]
  },
  {
   "cell_type": "markdown",
   "id": "e9e8c626",
   "metadata": {},
   "source": [
    "### 8. What is binomial distribution? What is the formula?\n",
    "Ans: The binomial is a type of distribution that has two possible outcomes (the prefix “bi” means two, or twice).For example, a coin toss has only two possible outcomes: heads or tails and taking a test could have two possible outcomes: pass or fail.\n",
    "\n",
    "A Binomial Distribution shows either (S)uccess or (F)ailure."
   ]
  },
  {
   "cell_type": "markdown",
   "id": "8774c211",
   "metadata": {},
   "source": [
    "![image](https://th.bing.com/th/id/R.a0c8755d8ae434343183c5967bc5bf71?rik=UIHP%2bPtK2z110g&pid=ImgRaw&r=0&sres=1&sresct=1)"
   ]
  },
  {
   "cell_type": "markdown",
   "id": "021c87ea",
   "metadata": {},
   "source": [
    "### 9. What is Poisson distribution? What is the formula?\n",
    "Ans: A Poisson distribution is defined as a discrete frequency distribution that gives the probability of the number of independent events that occur in the fixed time.\n",
    "\n",
    "In statistics, a Poisson distribution is a probability distribution that is used to show how many times an event is likely to occur over a specified period. ... The Poisson distribution is a discrete function, meaning that the variable can only take specific values in a (potentially infinite) list."
   ]
  },
  {
   "cell_type": "markdown",
   "id": "333a7163",
   "metadata": {},
   "source": [
    "![image](https://th.bing.com/th/id/R.aa67f24b1b314da8109a7d488a4321bd?rik=GsIEAt9O9eWEeQ&pid=ImgRaw&r=0&sres=1&sresct=1)"
   ]
  },
  {
   "cell_type": "markdown",
   "id": "5828200a",
   "metadata": {},
   "source": [
    "### 10. Define covariance ?\n",
    "Ans: Covariance is a measure of how much two random variables vary together. It's similar to variance, but where variance tells you how a single variable varies, co variance tells you how two variables vary together"
   ]
  },
  {
   "cell_type": "markdown",
   "id": "2a84270a",
   "metadata": {},
   "source": [
    "![image](https://th.bing.com/th/id/R.43bccc42e3998e4e8f9495085a9c92af?rik=caODd8qwo4XQpA&pid=ImgRaw&r=0)"
   ]
  },
  {
   "cell_type": "markdown",
   "id": "66263d7c",
   "metadata": {},
   "source": [
    "#### Covariance for sample\n",
    "\n",
    "![image](https://www.alpharithms.com/wp-content/uploads/1156/covariance-equation-diagram.jpg)"
   ]
  },
  {
   "cell_type": "markdown",
   "id": "642e65e4",
   "metadata": {},
   "source": [
    "### 11. Define correlation ?\n",
    "Ans: Correlation explains how one or more variables are related to each other. These variables can be input data features which have been used to forecast our target variable. It's a bi-variate analysis measure which describes the association between different variables."
   ]
  },
  {
   "cell_type": "markdown",
   "id": "33b67252",
   "metadata": {},
   "source": [
    "![image](https://www.investopedia.com/thmb/dKvO3CxGB0hoVqzWVRyuVc3aSXk=/1280x640/filters:no_upscale():max_bytes(150000):strip_icc()/latex_b3ee11e54a5416f4dfe3c3bc0d82e67e-5c6339d6c9e77c0001d3237e.jpg)"
   ]
  },
  {
   "cell_type": "markdown",
   "id": "3307eb2d",
   "metadata": {},
   "source": [
    "### 12. Define sampling with replacement. Give example.\n",
    "Ans: If you sample with replacement, you would choose one person's name, put that person's name back in the hat, and then choose another name. The possibilities for your two-name sample are: John, John. John, Jack."
   ]
  },
  {
   "cell_type": "markdown",
   "id": "cfb6928b",
   "metadata": {},
   "source": [
    "### 13. What is sampling without replacement? Give example.\n",
    "Ans: In sampling without replacement, each sample unit of the population has only one chance to be selected in the sample. For example, if one draws a simple random sample such that no unit occurs more than one time in the sample, the sample is drawn without replacement."
   ]
  },
  {
   "cell_type": "markdown",
   "id": "ba39b640",
   "metadata": {},
   "source": [
    "### 14.What is hypothesis? Give example.\n",
    "Ans: A hypothesis (plural hypotheses) is a proposed explanation for a phenomenon. For a hypothesis to be a scientific hypothesis, the scientific method requires that one can test it. ... Even though the words \"hypothesis\" and \"theory\" are often used synonymously, a scientific hypothesis is not the same as a scientific theory.\n",
    "\n",
    "Examples of hypothesis statements: If garlic repels fleas, then a dog that is given garlic every day will not get fleas. Bacterial growth may be affected by moisture levels in the air. If sugar causes cavities, then people who eat a lot of candy may be more prone to cavities."
   ]
  }
 ],
 "metadata": {
  "kernelspec": {
   "display_name": "Python 3 (ipykernel)",
   "language": "python",
   "name": "python3"
  },
  "language_info": {
   "codemirror_mode": {
    "name": "ipython",
    "version": 3
   },
   "file_extension": ".py",
   "mimetype": "text/x-python",
   "name": "python",
   "nbconvert_exporter": "python",
   "pygments_lexer": "ipython3",
   "version": "3.9.12"
  }
 },
 "nbformat": 4,
 "nbformat_minor": 5
}
